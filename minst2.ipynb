{
 "cells": [
  {
   "cell_type": "code",
   "execution_count": 1,
   "id": "ee5f8984-3254-43d5-9917-894cdbc5d72e",
   "metadata": {},
   "outputs": [],
   "source": [
    "# 加载必要的库\n",
    "import torch\n",
    "import random\n",
    "import torch.nn as nn\n",
    "import torch.nn.functional as F\n",
    "import torch.optim as optim\n",
    "from torchvision import datasets, transforms"
   ]
  },
  {
   "cell_type": "code",
   "execution_count": 2,
   "id": "4cac574e-ca24-4aab-93de-67a04404a1c0",
   "metadata": {},
   "outputs": [],
   "source": [
    "# 定义超参数\n",
    "batch_size = 30 # 每批处理的数据\n",
    "device = torch.device( \"cpu\")\n",
    "epochs = 10 # 训练数据集的轮次"
   ]
  },
  {
   "cell_type": "code",
   "execution_count": 3,
   "id": "f5fa5491-bca8-4650-9dc4-e8b3c061e372",
   "metadata": {},
   "outputs": [],
   "source": [
    "# 数据预处理   \n",
    "pipeline = transforms.Compose([\n",
    "    transforms.ToTensor(), # 将图片转换为tensor\n",
    "    transforms.Normalize((0.1307,), (0.3081,)) # 正则化，降低模型复杂度，参数官网的  \n",
    "])\n"
   ]
  },
  {
   "cell_type": "code",
   "execution_count": 4,
   "id": "20d76931-328e-4aa7-b16d-b6053cfb42cf",
   "metadata": {},
   "outputs": [],
   "source": [
    "# 下载并加载MNIST数据集\n",
    "train_dataset = datasets.MNIST(root='./data', train=True, download=True, transform=pipeline)\n",
    "test_dataset = datasets.MNIST(root='./data', train=False, download=True, transform=pipeline)\n",
    "\n",
    "# 创建自定义DataLoader\n",
    "class CustomMNISTDataLoader:\n",
    "    def __init__(self, dataset, batch_size, shuffle=True):\n",
    "        self.dataset = dataset\n",
    "        self.batch_size = batch_size\n",
    "        self.shuffle = shuffle\n",
    "        self.indices = list(range(len(dataset)))\n",
    "\n",
    "    def __iter__(self):\n",
    "        if self.shuffle:\n",
    "            random.shuffle(self.indices)\n",
    "\n",
    "        for i in range(0, len(self.dataset), self.batch_size):\n",
    "            indices = self.indices[i:i+self.batch_size]\n",
    "            batch = [self.dataset[idx] for idx in indices]\n",
    "            images, labels = zip(*batch)\n",
    "            yield torch.stack(images, 0), torch.tensor(labels)\n",
    "            \n",
    "train_loader = CustomMNISTDataLoader(train_dataset, batch_size = batch_size, shuffle=True)\n",
    "test_loader = CustomMNISTDataLoader(test_dataset, batch_size = batch_size, shuffle=True)"
   ]
  },
  {
   "cell_type": "code",
   "execution_count": 5,
   "id": "e3dcf622-f313-4f72-9553-9b4ee4af4781",
   "metadata": {},
   "outputs": [],
   "source": [
    "# 构建网络模型\n",
    "class Digit(nn.Module):\n",
    "    def __init__(self):\n",
    "        super().__init__()\n",
    "        self.conv1 = nn.Conv2d(1, 10, 5)  # 灰度图片的通道， 输出通道， 卷积核\n",
    "        self.conv2 = nn.Conv2d(10, 20, 3) # 输入通道， 输出通道， 卷积核\n",
    "        self.fc1 = nn.Linear(20*10*10, 500) # 输入通道， 输出通道\n",
    "        self.fc2 = nn.Linear(500, 10) #输入通道， 输出通道\n",
    "        \n",
    "    def forward(self, x):\n",
    "        input_size = x.size(0) # batch_size\n",
    "        x = self.conv1(x)  # 输入：batch*1*28*28, 输出：batch*10*24*24 (28 - 5 + 1)\n",
    "        x = F.relu(x)   # 激活函数 保持shape不变，输出batch*10*24*24\n",
    "        x = F.max_pool2d(x, 2, 2) # 池化层，图片压缩 输入：batch*10*24*24 输出：batch*10*12*12\n",
    "\n",
    "        x = self.conv2(x)\n",
    "        x = F.relu(x)\n",
    "\n",
    "        x = x.view(input_size, -1) # 拉平，自动计算维度20*10*10 = 2000\n",
    "\n",
    "        x = self.fc1(x)  # 输入：batch*2000 输出batch*500\n",
    "        x = F.relu(x) # 保持shape不变\n",
    "\n",
    "        x = self.fc2(x) # 输入batch*500 输出batch*10\n",
    "\n",
    "        output = F.log_softmax(x, dim=1) # 计算分类后，每个数字的概率值 按行计算\n",
    "\n",
    "        return output # 返回概率值"
   ]
  },
  {
   "cell_type": "code",
   "execution_count": 6,
   "id": "a912cfc1-1cf5-488f-bd3b-531c7733246a",
   "metadata": {},
   "outputs": [],
   "source": [
    "# 定义优化器\n",
    "model = Digit().to(device)\n",
    "\n",
    "optimizer = optim.Adam(model.parameters())"
   ]
  },
  {
   "cell_type": "code",
   "execution_count": 7,
   "id": "b959a38d-c7be-4a74-a922-050f8aff831c",
   "metadata": {},
   "outputs": [],
   "source": [
    "# 定义训练方法\n",
    "def train_model(model, device, train_loader, optimizer, epoch):\n",
    "    # 模型训练\n",
    "    model.train()\n",
    "    for batch_index, (data, target) in enumerate(train_loader):\n",
    "        # 部署到device上去\n",
    "        data, target = data.to(device), target.to(device)\n",
    "        #梯度初始化0\n",
    "        optimizer.zero_grad()\n",
    "        # 训练后的结果\n",
    "        output = model(data)\n",
    "        # 计算损失\n",
    "        loss = F.cross_entropy(output, target)    # 交叉熵\n",
    "        # 反向传播\n",
    "        loss.backward()\n",
    "        # 参数优化\n",
    "        optimizer.step()\n",
    "        if batch_index % 3000 == 0:\n",
    "            print(\"Train Epoch : {} \\t Loss : {:.6f}\".format(epoch, loss.item()))        "
   ]
  },
  {
   "cell_type": "code",
   "execution_count": 8,
   "id": "ee54291b-3e1c-4ce5-a370-977250692776",
   "metadata": {},
   "outputs": [],
   "source": [
    "# 定义测试方法\n",
    "def test_model(model, device, test_loader):\n",
    "    # 模型验证\n",
    "    model.eval()\n",
    "    # 正确率\n",
    "    correct = 0.0\n",
    "    #测试损失\n",
    "    test_loss = 0.0\n",
    "    with torch.no_grad(): #不计算梯度，也不反向传播\n",
    "        for data, target in test_loader:\n",
    "            # 部署到device\n",
    "            data, target = data.to(device), target.to(device)\n",
    "            # 测试数据\n",
    "            output = model(data)\n",
    "            # 计算测试损失\n",
    "            test_loss += F.cross_entropy(output, target).item()\n",
    "            # 找到概率值最大的下标\n",
    "            pred = output.max(1, keepdim=True)[1] # 值 索引\n",
    "            # 累计正确率\n",
    "            correct += pred.eq(target.view_as(pred)).sum().item()\n",
    "        test_loss /= len(test_loader.dataset)\n",
    "        print(\"Test —— Average loss : {:.4f}, Accuracy : {:.3f}\\n\".format(\n",
    "            test_loss, 100.0 * correct / len(test_loader.dataset)))\n",
    "        "
   ]
  },
  {
   "cell_type": "code",
   "execution_count": 9,
   "id": "690be1f6-0064-4d14-804f-a2bb48e9dae3",
   "metadata": {},
   "outputs": [
    {
     "name": "stdout",
     "output_type": "stream",
     "text": [
      "Train Epoch : 1 \t Loss : 2.312522\n",
      "Test —— Average loss : 0.0014, Accuracy : 98.480\n",
      "\n",
      "Train Epoch : 2 \t Loss : 0.030370\n",
      "Test —— Average loss : 0.0014, Accuracy : 98.700\n",
      "\n",
      "Train Epoch : 3 \t Loss : 0.006788\n",
      "Test —— Average loss : 0.0012, Accuracy : 98.940\n",
      "\n",
      "Train Epoch : 4 \t Loss : 0.001687\n",
      "Test —— Average loss : 0.0014, Accuracy : 98.880\n",
      "\n",
      "Train Epoch : 5 \t Loss : 0.111661\n",
      "Test —— Average loss : 0.0013, Accuracy : 99.000\n",
      "\n",
      "Train Epoch : 6 \t Loss : 0.000128\n",
      "Test —— Average loss : 0.0014, Accuracy : 99.090\n",
      "\n",
      "Train Epoch : 7 \t Loss : 0.023032\n",
      "Test —— Average loss : 0.0015, Accuracy : 98.870\n",
      "\n",
      "Train Epoch : 8 \t Loss : 0.017029\n",
      "Test —— Average loss : 0.0023, Accuracy : 98.520\n",
      "\n",
      "Train Epoch : 9 \t Loss : 0.058655\n",
      "Test —— Average loss : 0.0013, Accuracy : 99.170\n",
      "\n",
      "Train Epoch : 10 \t Loss : 0.000014\n",
      "Test —— Average loss : 0.0015, Accuracy : 99.120\n",
      "\n"
     ]
    }
   ],
   "source": [
    "# 调用方法\n",
    "for epoch in range(1, epochs + 1):\n",
    "    train_model(model, device, train_loader, optimizer, epoch)\n",
    "    test_model(model, device, test_loader)"
   ]
  },
  {
   "cell_type": "code",
   "execution_count": null,
   "id": "ce0afddb-963b-4403-b561-7c44dd87d0e0",
   "metadata": {},
   "outputs": [],
   "source": []
  }
 ],
 "metadata": {
  "kernelspec": {
   "display_name": "Python 3 (ipykernel)",
   "language": "python",
   "name": "python3"
  },
  "language_info": {
   "codemirror_mode": {
    "name": "ipython",
    "version": 3
   },
   "file_extension": ".py",
   "mimetype": "text/x-python",
   "name": "python",
   "nbconvert_exporter": "python",
   "pygments_lexer": "ipython3",
   "version": "3.8.18"
  }
 },
 "nbformat": 4,
 "nbformat_minor": 5
}
